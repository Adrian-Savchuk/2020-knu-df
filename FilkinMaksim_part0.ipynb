{
  "nbformat": 4,
  "nbformat_minor": 0,
  "metadata": {
    "colab": {
      "name": "FilkinMaksim_part0.ipynb",
      "provenance": [],
      "private_outputs": true,
      "collapsed_sections": []
    },
    "kernelspec": {
      "name": "python3",
      "display_name": "Python 3"
    },
    "accelerator": "GPU"
  },
  "cells": [
    {
      "cell_type": "markdown",
      "metadata": {
        "id": "isgbRU1yJ7Q_",
        "colab_type": "text"
      },
      "source": [
        "**PART 0**\n",
        "\n",
        "**AUTHOR FILKIN MAKSIM**\n",
        "\n",
        "---\n",
        "\n"
      ]
    },
    {
      "cell_type": "markdown",
      "metadata": {
        "id": "zdeaZLL7Nju9",
        "colab_type": "text"
      },
      "source": [
        "Подключим библиотеки"
      ]
    },
    {
      "cell_type": "code",
      "metadata": {
        "id": "C06PewB4O2Ii",
        "colab_type": "code",
        "colab": {}
      },
      "source": [
        "import torchvision\n",
        "import torch\n",
        "import torchvision.transforms as transforms\n",
        "import torch.nn as nn\n",
        "import torch.nn.functional as F\n",
        "import torch.optim as optim\n",
        "import matplotlib.pyplot as plt\n",
        "import numpy as np\n",
        "from torchvision import datasets, transforms\n",
        "import time\n",
        "import sklearn.metrics as metrics\n",
        "import seaborn as sn\n",
        "import pandas as pd"
      ],
      "execution_count": 0,
      "outputs": []
    },
    {
      "cell_type": "markdown",
      "metadata": {
        "id": "cxAcJxMFNpaB",
        "colab_type": "text"
      },
      "source": [
        "Загрузим данные"
      ]
    },
    {
      "cell_type": "code",
      "metadata": {
        "id": "XmSk0tlWO3Pb",
        "colab_type": "code",
        "colab": {}
      },
      "source": [
        "opt = True\n",
        "device = torch.device(\"cuda:0\" if torch.cuda.is_available() else \"cpu\")\n",
        "\n",
        "transform = transforms.Compose(\n",
        "    [transforms.ToTensor(),\n",
        "     transforms.Normalize((0.5, 0.5, 0.5), (0.5, 0.5, 0.5))])\n",
        "\n",
        "trainset = torchvision.datasets.CIFAR10(root='./data', train=True,\n",
        "                                        download=True, transform=transform)\n",
        "trainloader = torch.utils.data.DataLoader(trainset, batch_size=4,\n",
        "                                          shuffle=True, num_workers=2)\n",
        "\n",
        "testset = torchvision.datasets.CIFAR10(root='./data', train=False,\n",
        "                                       download=True, transform=transform)\n",
        "testloader = torch.utils.data.DataLoader(testset, batch_size=4,\n",
        "                                         shuffle=False, num_workers=2)\n",
        "\n",
        "classes = ('plane', 'car', 'bird', 'cat',\n",
        "           'deer', 'dog', 'frog', 'horse', 'ship', 'truck')\n",
        "best_res = 0"
      ],
      "execution_count": 0,
      "outputs": []
    },
    {
      "cell_type": "markdown",
      "metadata": {
        "id": "3ffauvs7RvDS",
        "colab_type": "text"
      },
      "source": [
        "Функция для тренировки"
      ]
    },
    {
      "cell_type": "code",
      "metadata": {
        "id": "P_s_c7kCPCBb",
        "colab_type": "code",
        "colab": {}
      },
      "source": [
        "def train():\n",
        "    net.train()\n",
        "    train_loss = 0\n",
        "    correct = 0\n",
        "    total = 0\n",
        "    for batch_idx, (inputs, targets) in enumerate(trainloader):\n",
        "        inputs, targets = inputs.to(device), targets.to(device)\n",
        "        optimizer.zero_grad()\n",
        "        outputs = net(inputs)\n",
        "        loss = criterion(outputs, targets)\n",
        "        loss.backward()\n",
        "        optimizer.step()\n",
        "        train_loss += loss.item()\n",
        "        _, predicted = outputs.max(1)\n",
        "        total += targets.size(0)\n",
        "        correct += predicted.eq(targets).sum().item()\n",
        "        if (batch_idx % 100 == 0):\n",
        "            print('Loss: %.3f | Acc: %.3f%% (%d/%d)'\n",
        "               % (train_loss/(batch_idx+1), 100.*correct/total, correct, total))"
      ],
      "execution_count": 0,
      "outputs": []
    },
    {
      "cell_type": "markdown",
      "metadata": {
        "id": "oNJ04MWfRzRe",
        "colab_type": "text"
      },
      "source": [
        "Функция для теста"
      ]
    },
    {
      "cell_type": "code",
      "metadata": {
        "id": "F3oBIzIMPDkA",
        "colab_type": "code",
        "colab": {}
      },
      "source": [
        "def test():\n",
        "  global best_res\n",
        "  correct = 0\n",
        "  total = 0\n",
        "  with torch.no_grad():\n",
        "      for data in testloader:\n",
        "          images, labels = data\n",
        "          images, labels = images.to(device), labels.to(device)\n",
        "          outputs = net(images)\n",
        "          _, predicted = torch.max(outputs.data, 1)\n",
        "          total += labels.size(0)\n",
        "          correct += (predicted == labels).sum().item()\n",
        "  if (best_res < 100. * correct / total):\n",
        "      best_res = 100. * correct / total\n",
        "  print('Accuracy of the network on the test images: %.3f %%' % (\n",
        "          100. * correct / total))"
      ],
      "execution_count": 0,
      "outputs": []
    },
    {
      "cell_type": "markdown",
      "metadata": {
        "id": "HOgYUHVUcMCv",
        "colab_type": "text"
      },
      "source": [
        "Функция для построения confusion table"
      ]
    },
    {
      "cell_type": "code",
      "metadata": {
        "id": "oYpvXE6-Q5Cf",
        "colab_type": "code",
        "colab": {}
      },
      "source": [
        "def confusion_table(netw):\n",
        "    class_correct = np.zeros((10,10))\n",
        "    with torch.no_grad():\n",
        "      for data in testloader:\n",
        "          images, labels = data\n",
        "          images, labels = images.to(device), labels.to(device)\n",
        "          outputs = netw(images)\n",
        "          _, predicted = torch.max(outputs.data, 1)\n",
        "          correct = (predicted == labels).squeeze()\n",
        "          for i in range(len(labels)):\n",
        "              class_correct[labels[i], predicted[i]] += 1\n",
        "    class_correct = class_correct / class_correct.sum(axis=1, keepdims=True)\n",
        "    df_cm = pd.DataFrame(class_correct, index = classes, columns = classes)\n",
        "    plt.figure(figsize = (10,7))\n",
        "    sn.heatmap(df_cm, annot=True)\n",
        "    "
      ],
      "execution_count": 0,
      "outputs": []
    },
    {
      "cell_type": "markdown",
      "metadata": {
        "id": "fM8C_COyii_n",
        "colab_type": "text"
      },
      "source": [
        "Функция для построения precision, recall, f1\n",
        "\n"
      ]
    },
    {
      "cell_type": "code",
      "metadata": {
        "id": "ARQRyDZrdXmU",
        "colab_type": "code",
        "colab": {}
      },
      "source": [
        "def precision_recall_f1(netw):\n",
        "    y_true = np.array(testset.targets)\n",
        "    y_pred = []\n",
        "    with torch.no_grad():\n",
        "      for data in testloader:\n",
        "          images, labels = data\n",
        "          images, labels = images.to(device), labels.to(device)\n",
        "          outputs = netw(images)\n",
        "          _, predicted = torch.max(outputs.data, 1)\n",
        "          for i in range(len(labels)):\n",
        "              y_pred.append(int(predicted[i]))\n",
        "    y_pred = np.array(y_pred)\n",
        "    precision, recall, f1, _ = metrics.precision_recall_fscore_support(y_true, y_pred,labels=list(range(10)))\n",
        "    prcsn_rcll_f1 = [precision,recall,f1]\n",
        "    df_cm = pd.DataFrame(prcsn_rcll_f1, index = ['precision','recall','F1'], columns = classes)\n",
        "    plt.figure(figsize = (10,7))\n",
        "    sn.heatmap(df_cm, annot=True)"
      ],
      "execution_count": 0,
      "outputs": []
    },
    {
      "cell_type": "markdown",
      "metadata": {
        "id": "x-GLIk2dBv8B",
        "colab_type": "text"
      },
      "source": [
        "**TASK 1**\n",
        "\n",
        "---\n",
        "\n"
      ]
    },
    {
      "cell_type": "markdown",
      "metadata": {
        "id": "KwMH-l04B2Yv",
        "colab_type": "text"
      },
      "source": [
        "Класс начальной модели"
      ]
    },
    {
      "cell_type": "code",
      "metadata": {
        "id": "re46xrqTKXdZ",
        "colab_type": "code",
        "colab": {}
      },
      "source": [
        "class Net(nn.Module):\n",
        "    def __init__(self):\n",
        "        super(Net, self).__init__()\n",
        "        #32 32\n",
        "        self.conv1 = nn.Conv2d(3, 6, 5)\n",
        "        #28 28\n",
        "        self.pool = nn.MaxPool2d(2, 2)\n",
        "        #14 14\n",
        "        self.conv2 = nn.Conv2d(6, 16, 5)\n",
        "        #10 10 \n",
        "        self.fc1 = nn.Linear(16 * 5 * 5, 120)\n",
        "        self.fc2 = nn.Linear(120, 84)\n",
        "        self.fc3 = nn.Linear(84, 10)\n",
        "\n",
        "    def forward(self, x):\n",
        "        x = self.pool(F.relu(self.conv1(x)))\n",
        "        x = self.pool(F.relu(self.conv2(x)))\n",
        "        x = x.view(-1, 16 * 5 * 5)\n",
        "        x = F.relu(self.fc1(x))\n",
        "        x = F.relu(self.fc2(x))\n",
        "        x = self.fc3(x)\n",
        "        return x"
      ],
      "execution_count": 0,
      "outputs": []
    },
    {
      "cell_type": "markdown",
      "metadata": {
        "id": "jlyD6jHJLGNE",
        "colab_type": "text"
      },
      "source": [
        "Сеть и оптимизатор начальной модели"
      ]
    },
    {
      "cell_type": "code",
      "metadata": {
        "id": "WEGZElwZKh0v",
        "colab_type": "code",
        "colab": {}
      },
      "source": [
        "best_res = 0\n",
        "net = Net().to(device)\n",
        "criterion = nn.CrossEntropyLoss()\n",
        "optimizer = optim.SGD(net.parameters(), lr=0.001, momentum=0.9)"
      ],
      "execution_count": 0,
      "outputs": []
    },
    {
      "cell_type": "markdown",
      "metadata": {
        "id": "7tPggqYkK5eg",
        "colab_type": "text"
      },
      "source": [
        "main function"
      ]
    },
    {
      "cell_type": "code",
      "metadata": {
        "id": "fj6HGERsK83_",
        "colab_type": "code",
        "colab": {}
      },
      "source": [
        "for __ in range(0,2):\n",
        "    print(\"epoh =\",__ + 1)\n",
        "    train()\n",
        "    test()\n",
        "print('Best: %.3f %%' % (best_res))"
      ],
      "execution_count": 0,
      "outputs": []
    },
    {
      "cell_type": "code",
      "metadata": {
        "id": "vreIuwPVaoiU",
        "colab_type": "code",
        "colab": {}
      },
      "source": [
        "confusion_table(net)"
      ],
      "execution_count": 0,
      "outputs": []
    },
    {
      "cell_type": "code",
      "metadata": {
        "id": "QWUVGFDxd2Xx",
        "colab_type": "code",
        "colab": {}
      },
      "source": [
        "precision_recall_f1(net)"
      ],
      "execution_count": 0,
      "outputs": []
    },
    {
      "cell_type": "markdown",
      "metadata": {
        "id": "82GBIsDoa-gs",
        "colab_type": "text"
      },
      "source": [
        "**TASK 2**\n",
        "\n",
        "---\n",
        "\n",
        "\n",
        "\n"
      ]
    },
    {
      "cell_type": "markdown",
      "metadata": {
        "id": "qK582E8qNGdL",
        "colab_type": "text"
      },
      "source": [
        "Решил изменить фотографии"
      ]
    },
    {
      "cell_type": "code",
      "metadata": {
        "id": "FKaSfDJwNP52",
        "colab_type": "code",
        "colab": {}
      },
      "source": [
        "opt = True\n",
        "device = torch.device(\"cuda:0\" if torch.cuda.is_available() else \"cpu\")\n",
        "\n",
        "transform_train = transforms.Compose([\n",
        "    transforms.RandomCrop(32, padding=4),\n",
        "    transforms.RandomHorizontalFlip(),\n",
        "    transforms.ToTensor(),\n",
        "    transforms.Normalize((0.4914, 0.4822, 0.4465), (0.2023, 0.1994, 0.2010)),\n",
        "])\n",
        "\n",
        "transform_test = transforms.Compose([\n",
        "    transforms.ToTensor(),\n",
        "    transforms.Normalize((0.4914, 0.4822, 0.4465), (0.2023, 0.1994, 0.2010)),\n",
        "])\n",
        "\n",
        "trainset = torchvision.datasets.CIFAR10(root='./data', train=True, download=True, transform=transform_train)\n",
        "trainloader = torch.utils.data.DataLoader(trainset, batch_size=128, shuffle=True, num_workers=2)\n",
        "\n",
        "testset = torchvision.datasets.CIFAR10(root='./data', train=False, download=True, transform=transform_test)\n",
        "testloader = torch.utils.data.DataLoader(testset, batch_size=100, shuffle=False, num_workers=2)\n",
        "\n",
        "classes = ('plane', 'car', 'bird', 'cat', 'deer', 'dog', 'frog', 'horse', 'ship', 'truck')"
      ],
      "execution_count": 0,
      "outputs": []
    },
    {
      "cell_type": "markdown",
      "metadata": {
        "id": "BUUETQNnRgms",
        "colab_type": "text"
      },
      "source": [
        "Класс модели"
      ]
    },
    {
      "cell_type": "code",
      "metadata": {
        "id": "-tya6KLLOKGf",
        "colab_type": "code",
        "colab": {}
      },
      "source": [
        "def temp(pre_val, next_val):\n",
        "    return [nn.Conv2d(pre_val, next_val, kernel_size=3, padding=1), nn.BatchNorm2d(next_val), nn.ReLU(inplace=True)]\n",
        "\n",
        "class Better_net(nn.Module):\n",
        "    def __init__(self):\n",
        "        super(Better_net, self).__init__()\n",
        "        features = []\n",
        "        features += temp(3,64)\n",
        "        features += temp(64,64)\n",
        "        features += [nn.MaxPool2d(2,2)]\n",
        "        features += temp(64,128)\n",
        "        features += temp(128,128)\n",
        "        features += [nn.MaxPool2d(2,2)]\n",
        "        features += temp(128,256)\n",
        "        features += temp(256,256)\n",
        "        features += temp(256,256)\n",
        "        features += [nn.MaxPool2d(2,2)]\n",
        "        features += temp(256,512)\n",
        "        features += temp(512,512)\n",
        "        features += temp(512,512)\n",
        "        features += [nn.MaxPool2d(2,2)]\n",
        "        features += temp(512,512)\n",
        "        features += temp(512,512)\n",
        "        features += temp(512,512)\n",
        "        features += [nn.MaxPool2d(2,2)]\n",
        "        features += [nn.AvgPool2d(1,1)]\n",
        "        self.features = nn.Sequential(*features)\n",
        "        self.classifier = nn.Linear(512, 10)\n",
        "\n",
        "    def forward(self, x):\n",
        "        x = self.features(x)\n",
        "        x = x.view(x.size(0), -1)\n",
        "        x = self.classifier(x)\n",
        "        return x"
      ],
      "execution_count": 0,
      "outputs": []
    },
    {
      "cell_type": "markdown",
      "metadata": {
        "id": "xUmHCIA7RneN",
        "colab_type": "text"
      },
      "source": [
        "*Создаем* сеть и SGD"
      ]
    },
    {
      "cell_type": "code",
      "metadata": {
        "id": "4NsCj9QPPBAl",
        "colab_type": "code",
        "colab": {}
      },
      "source": [
        "best_res = 0\n",
        "net = Better_net().to(device)\n",
        "criterion = nn.CrossEntropyLoss()\n",
        "optimizer = optim.SGD(net.parameters(), lr=0.01, momentum=0.9, weight_decay=5e-4)\n",
        "#optimizer = torch.optim.Adam(net.parameters(),lr = 1e-4)"
      ],
      "execution_count": 0,
      "outputs": []
    },
    {
      "cell_type": "markdown",
      "metadata": {
        "id": "D2EM2gWhR2aM",
        "colab_type": "text"
      },
      "source": [
        "main function"
      ]
    },
    {
      "cell_type": "code",
      "metadata": {
        "id": "1_bBCa1cPfwj",
        "colab_type": "code",
        "colab": {}
      },
      "source": [
        "for __ in range(0,200):\n",
        "    print(\"epoh =\",__ + 1)\n",
        "    train()\n",
        "    test()\n",
        "print('Best: %.3f %%' % (best_res))"
      ],
      "execution_count": 0,
      "outputs": []
    },
    {
      "cell_type": "markdown",
      "metadata": {
        "id": "lFK1sYuCi1a5",
        "colab_type": "text"
      },
      "source": [
        "**TASK 3**\n",
        "\n",
        "---\n",
        "\n"
      ]
    },
    {
      "cell_type": "code",
      "metadata": {
        "id": "2uDy1MWXi6KP",
        "colab_type": "code",
        "colab": {}
      },
      "source": [
        "confusion_table(net)"
      ],
      "execution_count": 0,
      "outputs": []
    },
    {
      "cell_type": "code",
      "metadata": {
        "id": "3iGtvSnwjB6p",
        "colab_type": "code",
        "colab": {}
      },
      "source": [
        "precision_recall_f1(net)"
      ],
      "execution_count": 0,
      "outputs": []
    },
    {
      "cell_type": "code",
      "metadata": {
        "id": "hT4bhGOgjGbj",
        "colab_type": "code",
        "colab": {}
      },
      "source": [
        ""
      ],
      "execution_count": 0,
      "outputs": []
    }
  ]
}