{
  "nbformat": 4,
  "nbformat_minor": 0,
  "metadata": {
    "kernelspec": {
      "name": "python3",
      "display_name": "Python 3"
    },
    "colab": {
      "name": "Copy of Copy_of_task_2_basic.ipynb",
      "provenance": [],
      "collapsed_sections": []
    },
    "accelerator": "GPU"
  },
  "cells": [
    {
      "cell_type": "markdown",
      "metadata": {
        "id": "7ALGPYQlU5np",
        "colab_type": "text"
      },
      "source": [
        "# Model definition"
      ]
    },
    {
      "cell_type": "markdown",
      "metadata": {
        "id": "ew0vKHDAU5nv",
        "colab_type": "text"
      },
      "source": [
        "Below is an implementation of the [LeNet](https://pytorch.org/tutorials/beginner/blitz/neural_networks_tutorial.html) architecture for the MNIST dataset."
      ]
    },
    {
      "cell_type": "code",
      "metadata": {
        "id": "Rl2XUqGSU5nz",
        "colab_type": "code",
        "colab": {}
      },
      "source": [
        "import torch\n",
        "import torch.nn as nn\n",
        "import torch.nn.functional as F\n",
        "import torch.optim as optim\n",
        "import torchvision\n",
        "from torchvision import datasets, transforms\n",
        "import numpy as np\n",
        "import matplotlib.pyplot as plt"
      ],
      "execution_count": 0,
      "outputs": []
    },
    {
      "cell_type": "code",
      "metadata": {
        "id": "lQvlqvVTU5n6",
        "colab_type": "code",
        "colab": {}
      },
      "source": [
        "# LeNet Model definition\n",
        "class Net(nn.Module):\n",
        "    def __init__(self):\n",
        "        super(Net, self).__init__()\n",
        "        self.conv1 = nn.Conv2d(1, 10, kernel_size=5)\n",
        "        self.conv2 = nn.Conv2d(10, 20, kernel_size=5)\n",
        "        self.conv2_drop = nn.Dropout2d()\n",
        "        self.fc1 = nn.Linear(320, 50)\n",
        "        self.fc2 = nn.Linear(50, 10)\n",
        "\n",
        "    def forward(self, x):\n",
        "        x = F.relu(F.max_pool2d(self.conv1(x), 2))\n",
        "        x = F.relu(F.max_pool2d(self.conv2_drop(self.conv2(x)), 2))\n",
        "        x = x.view(-1, 320)\n",
        "        x = F.relu(self.fc1(x))\n",
        "        x = F.dropout(x, training=self.training)\n",
        "        x = self.fc2(x)\n",
        "        \n",
        "        return F.log_softmax(x, dim=1)"
      ],
      "execution_count": 0,
      "outputs": []
    },
    {
      "cell_type": "code",
      "metadata": {
        "id": "08LFnCU7U5n_",
        "colab_type": "code",
        "outputId": "e24a0985-aa11-45b6-a813-a402808e1fe7",
        "colab": {
          "base_uri": "https://localhost:8080/",
          "height": 34
        }
      },
      "source": [
        "# Define what device we are using\n",
        "print(\"CUDA Available: \",torch.cuda.is_available())\n",
        "device = torch.device(\"cuda\" if torch.cuda.is_available() else \"cpu\")"
      ],
      "execution_count": 3,
      "outputs": [
        {
          "output_type": "stream",
          "text": [
            "CUDA Available:  True\n"
          ],
          "name": "stdout"
        }
      ]
    },
    {
      "cell_type": "code",
      "metadata": {
        "id": "epikgD_vU5oF",
        "colab_type": "code",
        "outputId": "9e65bad8-e1ce-4ac4-ae56-9ea7c1aa414f",
        "colab": {
          "base_uri": "https://localhost:8080/",
          "height": 137
        }
      },
      "source": [
        "model = Net().to(device)\n",
        "model"
      ],
      "execution_count": 4,
      "outputs": [
        {
          "output_type": "execute_result",
          "data": {
            "text/plain": [
              "Net(\n",
              "  (conv1): Conv2d(1, 10, kernel_size=(5, 5), stride=(1, 1))\n",
              "  (conv2): Conv2d(10, 20, kernel_size=(5, 5), stride=(1, 1))\n",
              "  (conv2_drop): Dropout2d(p=0.5, inplace=False)\n",
              "  (fc1): Linear(in_features=320, out_features=50, bias=True)\n",
              "  (fc2): Linear(in_features=50, out_features=10, bias=True)\n",
              ")"
            ]
          },
          "metadata": {
            "tags": []
          },
          "execution_count": 4
        }
      ]
    },
    {
      "cell_type": "code",
      "metadata": {
        "id": "nHOl435rU5oU",
        "colab_type": "code",
        "colab": {}
      },
      "source": [
        "train_loader = torch.utils.data.DataLoader(\n",
        "    datasets.MNIST('./mnist', \n",
        "                   download=True,\n",
        "                   transform=transforms.Compose([\n",
        "                       transforms.ToTensor(),\n",
        "                   ])),\n",
        "    batch_size=128, shuffle=True)"
      ],
      "execution_count": 0,
      "outputs": []
    },
    {
      "cell_type": "code",
      "metadata": {
        "id": "Y21BFYnzU5oY",
        "colab_type": "code",
        "colab": {}
      },
      "source": [
        "import torch.optim as optim\n",
        "\n",
        "criterion = nn.CrossEntropyLoss()\n",
        "\n",
        "# Use Stochastic Gradient Descent\n",
        "optimizer = optim.SGD(model.parameters(), lr=0.001, momentum=0.9)"
      ],
      "execution_count": 0,
      "outputs": []
    },
    {
      "cell_type": "code",
      "metadata": {
        "id": "gNGhD--NU5oc",
        "colab_type": "code",
        "colab": {
          "base_uri": "https://localhost:8080/",
          "height": 725
        },
        "outputId": "0e649407-8886-4c00-eec4-eb3be9922a85"
      },
      "source": [
        "epoch_num = 20\n",
        "model.train()\n",
        "for epoch in range(epoch_num):  # loop over the dataset multiple times\n",
        "\n",
        "    running_loss = 0.0\n",
        "    for i, data in enumerate(train_loader, 0):\n",
        "        # get the inputs; data is a list of [inputs, labels]\n",
        "        inputs, labels = data\n",
        "\n",
        "        # zero the parameter gradients\n",
        "        optimizer.zero_grad()\n",
        "        \n",
        "        # Remember a line with model.to(device)?\n",
        "        # It moves a model to a GPU and PyTorch expects that\n",
        "        # input data also will be on the GPU where the model resides\n",
        "        inputs, labels = inputs.to(device), labels.to(device)\n",
        "\n",
        "        # forward + backward + optimize\n",
        "        outputs = model(inputs)\n",
        "        \n",
        "        # Calculate the error between model predictins and actual labels\n",
        "        loss = criterion(outputs, labels)\n",
        "        \n",
        "        # Initiate backward propagation\n",
        "        loss.backward()\n",
        "        \n",
        "        # Update weights\n",
        "        optimizer.step()\n",
        "\n",
        "        # print statistics\n",
        "        running_loss += loss.item()\n",
        "        if i % 200 == 199:    # print every 200 mini-batches\n",
        "            print(f'[Epoch {epoch + 1}: batch {i + 1}] loss: {running_loss / 200}')\n",
        "            running_loss = 0.0\n",
        "\n",
        "print('Finished Training')"
      ],
      "execution_count": 7,
      "outputs": [
        {
          "output_type": "stream",
          "text": [
            "[Epoch 1: batch 200] loss: 2.2957795226573943\n",
            "[Epoch 1: batch 400] loss: 2.2577357006073\n",
            "[Epoch 2: batch 200] loss: 1.8755371963977814\n",
            "[Epoch 2: batch 400] loss: 1.3234312951564788\n",
            "[Epoch 3: batch 200] loss: 0.9713010323047638\n",
            "[Epoch 3: batch 400] loss: 0.8537770050764084\n",
            "[Epoch 4: batch 200] loss: 0.7454489383101464\n",
            "[Epoch 4: batch 400] loss: 0.695138503909111\n",
            "[Epoch 5: batch 200] loss: 0.6250861445069313\n",
            "[Epoch 5: batch 400] loss: 0.5931834580004215\n",
            "[Epoch 6: batch 200] loss: 0.557743929028511\n",
            "[Epoch 6: batch 400] loss: 0.5394540971517563\n",
            "[Epoch 7: batch 200] loss: 0.5102759525179863\n",
            "[Epoch 7: batch 400] loss: 0.4954481887817383\n",
            "[Epoch 8: batch 200] loss: 0.47052249401807783\n",
            "[Epoch 8: batch 400] loss: 0.45982856914401055\n",
            "[Epoch 9: batch 200] loss: 0.436388581097126\n",
            "[Epoch 9: batch 400] loss: 0.42867075458168985\n",
            "[Epoch 10: batch 200] loss: 0.4153003612160683\n",
            "[Epoch 10: batch 400] loss: 0.41159209705889227\n",
            "[Epoch 11: batch 200] loss: 0.39767999030649664\n",
            "[Epoch 11: batch 400] loss: 0.39134406603872773\n",
            "[Epoch 12: batch 200] loss: 0.37765287578105927\n",
            "[Epoch 12: batch 400] loss: 0.3716905519366264\n",
            "[Epoch 13: batch 200] loss: 0.36757683791220186\n",
            "[Epoch 13: batch 400] loss: 0.35348695904016497\n",
            "[Epoch 14: batch 200] loss: 0.3446203053742647\n",
            "[Epoch 14: batch 400] loss: 0.35145896777510643\n",
            "[Epoch 15: batch 200] loss: 0.3425177411735058\n",
            "[Epoch 15: batch 400] loss: 0.3313379675149918\n",
            "[Epoch 16: batch 200] loss: 0.32855483643710615\n",
            "[Epoch 16: batch 400] loss: 0.32935029938817023\n",
            "[Epoch 17: batch 200] loss: 0.31470164269208906\n",
            "[Epoch 17: batch 400] loss: 0.3110050482302904\n",
            "[Epoch 18: batch 200] loss: 0.31162748649716376\n",
            "[Epoch 18: batch 400] loss: 0.30989904373884203\n",
            "[Epoch 19: batch 200] loss: 0.3021388451755047\n",
            "[Epoch 19: batch 400] loss: 0.2991784941405058\n",
            "[Epoch 20: batch 200] loss: 0.2973383025825024\n",
            "[Epoch 20: batch 400] loss: 0.2906052065640688\n",
            "Finished Training\n"
          ],
          "name": "stdout"
        }
      ]
    },
    {
      "cell_type": "markdown",
      "metadata": {
        "id": "89rbdEtsU5oh",
        "colab_type": "text"
      },
      "source": [
        "Let's check how accurate is our network"
      ]
    },
    {
      "cell_type": "code",
      "metadata": {
        "id": "LgO2mm_fU5oi",
        "colab_type": "code",
        "colab": {}
      },
      "source": [
        "data_test = datasets.MNIST('./mnist',\n",
        "                           train=False,\n",
        "                           download=True,\n",
        "                           transform=transforms.Compose([\n",
        "                               transforms.ToTensor(),\n",
        "                           ]))\n",
        "\n",
        "test_loader = torch.utils.data.DataLoader(data_test, batch_size=256)"
      ],
      "execution_count": 0,
      "outputs": []
    },
    {
      "cell_type": "code",
      "metadata": {
        "id": "-l4FzwxiU5om",
        "colab_type": "code",
        "colab": {
          "base_uri": "https://localhost:8080/",
          "height": 34
        },
        "outputId": "b77e6a54-7b89-4798-b1b7-3642773d0ff0"
      },
      "source": [
        "# Prevent training\n",
        "model.eval()\n",
        "\n",
        "total_correct = 0\n",
        "avg_loss = 0.0\n",
        "\n",
        "for i, data in enumerate(test_loader, 0):\n",
        "    inputs, labels = data\n",
        "    inputs, labels = inputs.to(device), labels.to(device)\n",
        "   \n",
        "    output = model(inputs)\n",
        "    avg_loss += criterion(output, labels).sum()\n",
        "    \n",
        "    # tensor.detach() creates a tensor that shares storage with tensor that does not require grad.\n",
        "    # It detaches the output from the computational graph.\n",
        "    # So no gradient will be backpropagated along this variable.\n",
        "    pred = output.detach().max(1)[1]\n",
        "    total_correct += pred.eq(labels.view_as(pred)).sum()\n",
        "\n",
        "avg_loss /= len(data_test)\n",
        "avg_loss = avg_loss.detach().cpu().item()\n",
        "accuracy = float(total_correct) / len(data_test)\n",
        "print(f'Test Avg. Loss: {avg_loss}, Accuracy: {accuracy}')\n"
      ],
      "execution_count": 9,
      "outputs": [
        {
          "output_type": "stream",
          "text": [
            "Test Avg. Loss: 0.0004431374545674771, Accuracy: 0.963\n"
          ],
          "name": "stdout"
        }
      ]
    },
    {
      "cell_type": "markdown",
      "metadata": {
        "id": "6CCCV_99U5ow",
        "colab_type": "text"
      },
      "source": [
        "# FGSM Attack"
      ]
    },
    {
      "cell_type": "markdown",
      "metadata": {
        "id": "DZLJgafyU5ox",
        "colab_type": "text"
      },
      "source": [
        "The fgsm_attack function takes three inputs: image is the original clean image (x), epsilon is the pixel-wise perturbation amount (ϵ), and data_grad is gradient of the loss w.r.t the input image.\n",
        "\n",
        "The function then creates perturbed image as\n",
        "\n",
        "$$\\text{perturbed image} = image + epsilon * sign(gradient) = x + ϵ ∗ sign(∇xJ(θ,x,y))$$"
      ]
    },
    {
      "cell_type": "code",
      "metadata": {
        "id": "H0s-uBK_U5oz",
        "colab_type": "code",
        "colab": {}
      },
      "source": [
        "# FGSM attack code\n",
        "def fgsm_attack(image, epsilon, data_grad):\n",
        "    # Collect the element-wise sign of the data gradient\n",
        "    sign_data_grad = data_grad.sign()\n",
        "    \n",
        "    # Create the perturbed image by adjusting each pixel of the input image\n",
        "    perturbed_image = image + epsilon * sign_data_grad\n",
        "    \n",
        "    # Adding clipping to maintain [0,1] range\n",
        "    perturbed_image = torch.clamp(perturbed_image, 0, 1)\n",
        "    \n",
        "    # Return the perturbed image\n",
        "    return perturbed_image"
      ],
      "execution_count": 0,
      "outputs": []
    },
    {
      "cell_type": "markdown",
      "metadata": {
        "id": "fy92-lTGU5ph",
        "colab_type": "text"
      },
      "source": [
        "# PRACTICUM TASK"
      ]
    },
    {
      "cell_type": "code",
      "metadata": {
        "id": "MAMart_SOzQ5",
        "colab_type": "code",
        "colab": {}
      },
      "source": [
        "# change batch size\n",
        "data_test = datasets.MNIST('./mnist',\n",
        "                           train=False,\n",
        "                           download=True,\n",
        "                           transform=transforms.Compose([\n",
        "                               transforms.ToTensor(),\n",
        "                           ]))\n",
        "\n",
        "test_loader = torch.utils.data.DataLoader(data_test, batch_size=1)"
      ],
      "execution_count": 0,
      "outputs": []
    },
    {
      "cell_type": "markdown",
      "metadata": {
        "id": "dgpGqxTUU5pk",
        "colab_type": "text"
      },
      "source": [
        "## Task 1\n",
        "\n",
        "1 - For each class select 10 images not from this class. Perform attack to move selected images to this class. for each class select image with highest confidence.\n",
        "\n",
        "\n",
        "Best sample is the one with higher confidence.\n",
        "\n",
        "Since the output is $log(softmax)$, we will take $exp(output)$ as a confidence."
      ]
    },
    {
      "cell_type": "code",
      "metadata": {
        "id": "6pMU1cvgtnE1",
        "colab_type": "code",
        "colab": {}
      },
      "source": [
        "def targeted_attack(image, epsilon, data_grad):\n",
        "\n",
        "    # Create the perturbed image by adjusting each pixel of the input image\n",
        "    perturbed_image = image - epsilon * data_grad\n",
        "    \n",
        "    # Adding clipping to maintain [0,1] range\n",
        "    perturbed_image = torch.clamp(perturbed_image, 0, 1)\n",
        "    \n",
        "    # Return the perturbed image\n",
        "    return perturbed_image"
      ],
      "execution_count": 0,
      "outputs": []
    },
    {
      "cell_type": "code",
      "metadata": {
        "id": "1tqiVnYzLd2l",
        "colab_type": "code",
        "colab": {}
      },
      "source": [
        "def test_targeted(model, device, test_loader, epsilon, target_label):\n",
        "\n",
        "    # Accuracy counter\n",
        "    correct = 0\n",
        "\n",
        "    # Examples\n",
        "    adv_examples = [0]*10\n",
        "    confidences = np.zeros((10,))\n",
        "    confidences[target_label] = -1 # to identify a target if you forgot :]\n",
        "\n",
        "    # count adversarial attacks success per each class\n",
        "    adv_count = np.zeros((10,))\n",
        "    adv_count[target_label] = -1 # to identify a target if you forgot :]\n",
        "\n",
        "\n",
        "    # Modify target label\n",
        "    target_label = torch.full((1,), target_label, dtype=torch.long, device=device)\n",
        "\n",
        "    for data, target in test_loader:\n",
        "\n",
        "        data, target = data.to(device), target.to(device)\n",
        "\n",
        "        # Set requires_grad attribute of tensor. Important for Attack\n",
        "        data.requires_grad = True\n",
        "\n",
        "        # Forward pass the data through the model\n",
        "        output = model(data)\n",
        "        init_pred = output.max(1, keepdim=True)[1] # get the index of the max log-probability\n",
        "\n",
        "        # If the initial prediction is wrong, dont bother attacking, just move on\n",
        "        if init_pred.item() != target.item():\n",
        "            continue\n",
        "\n",
        "        # Calculate targeted loss\n",
        "        loss = F.nll_loss(output, target_label)\n",
        "\n",
        "        # Zero all existing gradients\n",
        "        model.zero_grad()\n",
        "\n",
        "        # Calculate gradients of model in backward pass\n",
        "        loss.backward()\n",
        "\n",
        "        # Collect datagrad\n",
        "        data_grad = data.grad.data\n",
        "\n",
        "        # Call Attack Function\n",
        "        perturbed_data = targeted_attack(data, epsilon, data_grad)\n",
        "\n",
        "        # Re-classify the perturbed image\n",
        "        output = model(perturbed_data)\n",
        "\n",
        "        # Check for success\n",
        "        final_pred = output.max(1, keepdim=True)[1] # get the index of the max log-probability\n",
        "        if final_pred.item() == target.item():\n",
        "            correct += 1\n",
        "            # Special case for saving 0 epsilon examples\n",
        "            if (epsilon == 0) and (len(adv_examples) < 5):\n",
        "                adv_ex = perturbed_data.squeeze().detach().cpu().numpy()\n",
        "                adv_examples.append( (init_pred.item(), final_pred.item(), adv_ex) )\n",
        "        elif final_pred.item() == target_label.item():\n",
        "            adv_count[target.item()] += 1\n",
        "            # Save best adv examples for visualization later\n",
        "            correct_label = target.item()\n",
        "            confidence = torch.exp(output[0, target_label.item()])\n",
        "            if  confidence > confidences[correct_label]:\n",
        "                confidences[correct_label] = confidence\n",
        "                adv_ex = perturbed_data.squeeze().detach().cpu().numpy()\n",
        "                adv_examples[correct_label] = (init_pred.item(), confidence, adv_ex) \n",
        "\n",
        "    # Calculate final accuracy for this epsilon\n",
        "    final_acc = correct/float(len(test_loader))\n",
        "    print(\"Epsilon: {}\\tTest Accuracy = {} / {} = {}\".format(epsilon, correct, len(test_loader), final_acc))\n",
        "\n",
        "    # Show adversarial success per class + fail\n",
        "    if eps != 0:\n",
        "        for cls in range(adv_count.shape[0]):\n",
        "            if cls == target_label.item():\n",
        "                continue\n",
        "            print(f\"Succeed {adv_count[cls]} with digit {cls}\")\n",
        "\n",
        "    # Return the accuracy and an adversarial example\n",
        "    return final_acc, adv_count, adv_examples"
      ],
      "execution_count": 0,
      "outputs": []
    },
    {
      "cell_type": "code",
      "metadata": {
        "id": "K4kXwDnRtm4h",
        "colab_type": "code",
        "outputId": "1c2a1e2f-9073-4cfd-d047-babde81de941",
        "colab": {
          "base_uri": "https://localhost:8080/",
          "height": 707
        }
      },
      "source": [
        "accuracies = []\n",
        "examples = []\n",
        "\n",
        "target_label = 0\n",
        "\n",
        "# Epsilon 0 means no attack at all\n",
        "epsilons = [ .05, .1, .2, .4]\n",
        "\n",
        "# Run test for each epsilon\n",
        "for eps in epsilons:\n",
        "    acc, adv, ex = test_targeted(model, device, test_loader, eps, target_label)\n",
        "    accuracies.append(acc)\n",
        "    examples.append(ex)"
      ],
      "execution_count": 14,
      "outputs": [
        {
          "output_type": "stream",
          "text": [
            "Epsilon: 0.05\tTest Accuracy = 9599 / 10000 = 0.9599\n",
            "Succeed 0.0 with digit 1\n",
            "Succeed 0.0 with digit 2\n",
            "Succeed 0.0 with digit 3\n",
            "Succeed 0.0 with digit 4\n",
            "Succeed 1.0 with digit 5\n",
            "Succeed 1.0 with digit 6\n",
            "Succeed 0.0 with digit 7\n",
            "Succeed 1.0 with digit 8\n",
            "Succeed 1.0 with digit 9\n",
            "Epsilon: 0.1\tTest Accuracy = 9549 / 10000 = 0.9549\n",
            "Succeed 0.0 with digit 1\n",
            "Succeed 2.0 with digit 2\n",
            "Succeed 0.0 with digit 3\n",
            "Succeed 0.0 with digit 4\n",
            "Succeed 1.0 with digit 5\n",
            "Succeed 2.0 with digit 6\n",
            "Succeed 0.0 with digit 7\n",
            "Succeed 3.0 with digit 8\n",
            "Succeed 1.0 with digit 9\n",
            "Epsilon: 0.2\tTest Accuracy = 9287 / 10000 = 0.9287\n",
            "Succeed 0.0 with digit 1\n",
            "Succeed 6.0 with digit 2\n",
            "Succeed 3.0 with digit 3\n",
            "Succeed 2.0 with digit 4\n",
            "Succeed 5.0 with digit 5\n",
            "Succeed 13.0 with digit 6\n",
            "Succeed 3.0 with digit 7\n",
            "Succeed 11.0 with digit 8\n",
            "Succeed 3.0 with digit 9\n",
            "Epsilon: 0.4\tTest Accuracy = 7904 / 10000 = 0.7904\n",
            "Succeed 1.0 with digit 1\n",
            "Succeed 24.0 with digit 2\n",
            "Succeed 11.0 with digit 3\n",
            "Succeed 24.0 with digit 4\n",
            "Succeed 30.0 with digit 5\n",
            "Succeed 49.0 with digit 6\n",
            "Succeed 10.0 with digit 7\n",
            "Succeed 28.0 with digit 8\n",
            "Succeed 25.0 with digit 9\n"
          ],
          "name": "stdout"
        }
      ]
    },
    {
      "cell_type": "code",
      "metadata": {
        "id": "chOYOD1dtmp5",
        "colab_type": "code",
        "colab": {}
      },
      "source": [
        "# Plot several examples of adversarial samples precised epsilon\n",
        "def plot_examples(examples, target_label, title=None):\n",
        "    ex_copy = examples[:]\n",
        "    del ex_copy[target_label]\n",
        "\n",
        "    fig, ax = plt.subplots(3,3, figsize=(8,10))\n",
        "    if title is not None:\n",
        "        fig.suptitle(title)\n",
        "\n",
        "    positions = np.indices((3,3)).reshape(2,9)\n",
        "    for i, example in enumerate(ex_copy):\n",
        "        j = positions[0, i]\n",
        "        k = positions[1, i]\n",
        "        try:\n",
        "            orig, cnf, ex = example \n",
        "            ax[j,k].imshow(ex, cmap=\"gray\")\n",
        "            ax[j,k].set_title(\"True {} -> Adv 0: {:.2f}\".format(orig, cnf.item()))\n",
        "        except TypeError:\n",
        "           # it means we have 0 instead of a tuple\n",
        "           # which indicates we haven't got any successful adversaries on this digit\n",
        "           ax[j,k].plot(np.arange(0,28,1), np.arange(0,28,1))\n",
        "           ax[j,k].set_title(\"No adv for this digit\".format())\n",
        "    # plt.tight_layout()\n",
        "    fig.show()"
      ],
      "execution_count": 0,
      "outputs": []
    },
    {
      "cell_type": "code",
      "metadata": {
        "id": "hlkq_UoFkUHS",
        "colab_type": "code",
        "outputId": "fdcdc2c0-7540-4a4e-f829-42e1fb7bc803",
        "colab": {
          "base_uri": "https://localhost:8080/",
          "height": 649
        }
      },
      "source": [
        "title = f\"Epsilon {epsilons[-2]}\"\n",
        "plot_examples(examples[-2], target_label, title=title)"
      ],
      "execution_count": 16,
      "outputs": [
        {
          "output_type": "display_data",
          "data": {
            "image/png": "[encoded data removed]",
            "text/plain": [
              "<Figure size 576x720 with 9 Axes>"
            ]
          },
          "metadata": {
            "tags": []
          }
        }
      ]
    },
    {
      "cell_type": "markdown",
      "metadata": {
        "id": "aBwiODWuU5pl",
        "colab_type": "text"
      },
      "source": [
        "## Task 2\n",
        "2 - Try different epsilons for one selected class and collect the number of iterations required to achieve success"
      ]
    },
    {
      "cell_type": "code",
      "metadata": {
        "id": "xUQhZtJGuFJc",
        "colab_type": "code",
        "colab": {}
      },
      "source": [
        "def targeted_fsgm(image, epsilon, data_grad):  \n",
        "    # Collect the element-wise sign of the data gradient\n",
        "    sign_data_grad = data_grad.sign()\n",
        "\n",
        "    # Create the perturbed image by adjusting each pixel of the input image\n",
        "    perturbed_image = image - epsilon * sign_data_grad\n",
        "    \n",
        "    # Adding clipping to maintain [0,1] range\n",
        "    perturbed_image = torch.clamp(perturbed_image, 0, 1)\n",
        "    \n",
        "    # Return the perturbed image\n",
        "    return perturbed_image"
      ],
      "execution_count": 0,
      "outputs": []
    },
    {
      "cell_type": "code",
      "metadata": {
        "id": "oAPUJlgOU5po",
        "colab_type": "code",
        "colab": {}
      },
      "source": [
        "def one_class_targeting(model, device, \n",
        "                        test_loader, epsilon, \n",
        "                        target_label, selected_class,\n",
        "                        sample_size=100):\n",
        "\n",
        "    # Modify target label\n",
        "    target_label = torch.full((1,), target_label, dtype=torch.long, device=device)\n",
        "\n",
        "    # Number of iterations count\n",
        "    total_iter_num = []\n",
        "    correct_iter_num = []\n",
        "\n",
        "    # Initialize max confidence for getting an example\n",
        "    max_conf = 0\n",
        "\n",
        "    for data, target in test_loader:\n",
        "        # Control sample size\n",
        "        if len(total_iter_num) >= sample_size:\n",
        "            break\n",
        "\n",
        "        # Get data\n",
        "        data, target = data.to(device), target.to(device)\n",
        "        \n",
        "        # We will work with only one class, others are dismissed\n",
        "        if target.item() != selected_class:\n",
        "            continue\n",
        "\n",
        "        # Get correct output\n",
        "        with torch.no_grad():\n",
        "            output = model(data)\n",
        "            init_pred = output.max(1, keepdim=True)[1]\n",
        "            if init_pred.item() != target.item():\n",
        "                continue\n",
        "\n",
        "        # Get number of iterations for current image\n",
        "        total_iterations = 0\n",
        "        # correct=1, 'cause we should iterate at least once to get the gradient\n",
        "        correct_iterations = 1 \n",
        "        succeed = False\n",
        "        while not succeed:\n",
        "            # iterations count\n",
        "            total_iterations += 1\n",
        "\n",
        "            # get gradient\n",
        "            data.requires_grad = True\n",
        "            output = model(data)\n",
        "            init_pred = output.max(1, keepdim=True)[1]\n",
        "            loss = F.nll_loss(output, target_label)  # targeted loss\n",
        "            model.zero_grad()\n",
        "            loss.backward()\n",
        "            data_grad = data.grad.data\n",
        "\n",
        "            # modify image\n",
        "            perturbed_data = targeted_fsgm(data, epsilon, data_grad)\n",
        "\n",
        "            # reclassify image\n",
        "            output = model(perturbed_data)\n",
        "\n",
        "            # check for success\n",
        "            final_pred = output.max(1, keepdim=True)[1]\n",
        "            if final_pred.item() == target.item():\n",
        "                correct_iterations += 1\n",
        "            elif final_pred.item() == target_label.item():\n",
        "                succeed = True\n",
        "                # Save best adv examples for visualization\n",
        "                correct_label = target.item()\n",
        "                confidence = torch.exp(output[0, target_label.item()])\n",
        "                if  confidence > max_conf:\n",
        "                    max_conf = confidence\n",
        "                    adv_ex = perturbed_data.squeeze().detach().cpu().numpy()\n",
        "                    adv_example = (confidence, adv_ex) \n",
        "\n",
        "            data.data = perturbed_data.clone()\n",
        "\n",
        "    # Save iteration number\n",
        "    total_iter_num.append(total_iterations)\n",
        "    correct_iter_num.append(correct_iterations)\n",
        "\n",
        "    # Return two medians + example\n",
        "    return np.median(total_iter_num), np.median(correct_iter_num), adv_example\n"
      ],
      "execution_count": 0,
      "outputs": []
    },
    {
      "cell_type": "code",
      "metadata": {
        "id": "lnKfPZD2xgvY",
        "colab_type": "code",
        "outputId": "e06dadc2-811c-4cab-ee6b-2eecf89554b3",
        "colab": {
          "base_uri": "https://localhost:8080/",
          "height": 172
        }
      },
      "source": [
        "examples = []\n",
        "\n",
        "target_label = 0\n",
        "target_class = 1\n",
        "\n",
        "# Epsilon 0 means no attack at all\n",
        "epsilons = [ .05, .1, .2]\n",
        "\n",
        "# Run test for each epsilon\n",
        "for eps in epsilons:\n",
        "    total, correct, ex = one_class_targeting(\n",
        "        model, device, \n",
        "        test_loader, eps, \n",
        "        target_label, target_class,\n",
        "        sample_size=200\n",
        "        )\n",
        "    examples.append(ex)\n",
        "    print(f\"Epsilon {eps}:\")\n",
        "    print(f\"Total iterations median: {total}\")\n",
        "    print(f\"Times classified correctly: {correct}\")"
      ],
      "execution_count": 19,
      "outputs": [
        {
          "output_type": "stream",
          "text": [
            "Epsilon 0.05:\n",
            "Total iterations median: 9.0\n",
            "Times classified correctly: 5.0\n",
            "Epsilon 0.1:\n",
            "Total iterations median: 5.0\n",
            "Times classified correctly: 3.0\n",
            "Epsilon 0.2:\n",
            "Total iterations median: 3.0\n",
            "Times classified correctly: 2.0\n"
          ],
          "name": "stdout"
        }
      ]
    },
    {
      "cell_type": "code",
      "metadata": {
        "id": "9oeNBs22zmbv",
        "colab_type": "code",
        "outputId": "8fc86d23-1366-40d3-ad8c-b4610cd99a02",
        "colab": {
          "base_uri": "https://localhost:8080/",
          "height": 162
        }
      },
      "source": [
        "fig, ax = plt.subplots(nrows=1, ncols=len(epsilons))\n",
        "for i, ex in enumerate(examples):\n",
        "    conf, img = ex\n",
        "    ax[i].imshow(img)\n",
        "    ax[i].set_title(\"Eps {}, conf {:.2f}\".format(epsilons[i], conf))"
      ],
      "execution_count": 21,
      "outputs": [
        {
          "output_type": "display_data",
          "data": {
            "image/png": "[encoded data removed]",
            "text/plain": [
              "<Figure size 432x288 with 3 Axes>"
            ]
          },
          "metadata": {
            "tags": []
          }
        }
      ]
    },
    {
      "cell_type": "code",
      "metadata": {
        "id": "w7EkyFFiUsfA",
        "colab_type": "code",
        "colab": {}
      },
      "source": [
        ""
      ],
      "execution_count": 0,
      "outputs": []
    }
  ]
}